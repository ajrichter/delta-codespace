{
 "cells": [
  {
   "cell_type": "markdown",
   "metadata": {},
   "source": [
    "# Creating a Delta Table in Codespaces\n",
    "\n"
   ]
  },
  {
   "cell_type": "code",
   "execution_count": null,
   "metadata": {},
   "outputs": [],
   "source": [
    "import pandas as pd\n",
    "from pyspark import DeltaTable\n",
    "from pyspark import spark\n",
    "\n",
    "# Small Parquet example\n",
    "filenames_list = [\"data/atlantis.csv\"]\n",
    "parquetList = []\n",
    "\n",
    "for n, f in enumerate(filenames_list):\n",
    "    df = pd.read_csv(f, compression=\"gzip\", blocksize=None)\n",
    "    parq = df.to_parquet(\"parquetTable_\" + n, write_index=False)\n",
    "    parquetList.append(parq)\n",
    "\n",
    "\n",
    "for n, p in enumerate(parquetList):\n",
    "    df = pd.read_parquet(path, engine='auto', columns=None, storage_options=None, use_nullable_dtypes=False, **kwargs)\n",
    "    df.write.format(\"delta\").saveAsTable(\"deltaTable_\" + n)\n",
    "    DeltaTable.isDeltaTable(spark, \"deltaTable_\" + n) # True\n",
    "    spark.table(\"deltaTable_\" + n).show()"
   ]
  }
 ],
 "metadata": {
  "kernelspec": {
   "display_name": "Python 3.10.4 64-bit",
   "language": "python",
   "name": "python3"
  },
  "language_info": {
   "codemirror_mode": {
    "name": "ipython",
    "version": 3
   },
   "file_extension": ".py",
   "mimetype": "text/x-python",
   "name": "python",
   "nbconvert_exporter": "python",
   "pygments_lexer": "ipython3",
   "version": "3.10.8"
  },
  "orig_nbformat": 4,
  "vscode": {
   "interpreter": {
    "hash": "3ad933181bd8a04b432d3370b9dc3b0662ad032c4dfaa4e4f1596c548f763858"
   }
  }
 },
 "nbformat": 4,
 "nbformat_minor": 2
}
